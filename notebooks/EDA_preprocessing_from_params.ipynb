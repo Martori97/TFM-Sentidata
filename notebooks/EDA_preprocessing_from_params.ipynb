{
 "cells": [
  {
   "cell_type": "markdown",
   "id": "60176a87",
   "metadata": {},
   "source": [
    "# EDA & Preprocesado — TFM Sentidata (desde `params.yaml`)\n",
    "\n",
    "Esta libreta:\n",
    "- Lee su configuración desde **`params.yaml`** (sección `eda:`) para mantener coherencia con DVC.\n",
    "- Explora el dataset (distribución de clases, longitudes, duplicados, idioma).\n",
    "- Propone `max_len` recomendado.\n",
    "- Aplica limpieza mínima de texto.\n",
    "- Guarda tablas/figuras en `reports/eda/` con marca temporal.\n",
    "\n",
    "> **Nota**: No entrena modelos; es complemento visual/narrativo del pipeline.\n"
   ]
  },
  {
   "cell_type": "code",
   "execution_count": 6,
   "id": "b0f5e1b7",
   "metadata": {},
   "outputs": [
    {
     "name": "stdout",
     "output_type": "stream",
     "text": [
      "Usando params desde: /home/pedro/MASTER_BIGDATA/TFM/TFM-Sentidata/params.yaml\n",
      "REPORT_DIR => /home/pedro/MASTER_BIGDATA/TFM/TFM-Sentidata/notebooks/reports/eda/20250909_202117\n"
     ]
    },
    {
     "data": {
      "text/html": [
       "<div>\n",
       "<style scoped>\n",
       "    .dataframe tbody tr th:only-of-type {\n",
       "        vertical-align: middle;\n",
       "    }\n",
       "\n",
       "    .dataframe tbody tr th {\n",
       "        vertical-align: top;\n",
       "    }\n",
       "\n",
       "    .dataframe thead th {\n",
       "        text-align: right;\n",
       "    }\n",
       "</style>\n",
       "<table border=\"1\" class=\"dataframe\">\n",
       "  <thead>\n",
       "    <tr style=\"text-align: right;\">\n",
       "      <th></th>\n",
       "      <th>value</th>\n",
       "    </tr>\n",
       "  </thead>\n",
       "  <tbody>\n",
       "    <tr>\n",
       "      <th>DATA_PATH</th>\n",
       "      <td>../data/trusted/sephora_clean/reviews_0_250</td>\n",
       "    </tr>\n",
       "    <tr>\n",
       "      <th>TEXT_COLUMN</th>\n",
       "      <td>review_text</td>\n",
       "    </tr>\n",
       "    <tr>\n",
       "      <th>STAR_COLUMN</th>\n",
       "      <td>rating</td>\n",
       "    </tr>\n",
       "    <tr>\n",
       "      <th>LABEL_COLUMN</th>\n",
       "      <td>None</td>\n",
       "    </tr>\n",
       "    <tr>\n",
       "      <th>HF_MODEL_NAME</th>\n",
       "      <td>albert-base-v2</td>\n",
       "    </tr>\n",
       "  </tbody>\n",
       "</table>\n",
       "</div>"
      ],
      "text/plain": [
       "                                                     value\n",
       "DATA_PATH      ../data/trusted/sephora_clean/reviews_0_250\n",
       "TEXT_COLUMN                                    review_text\n",
       "STAR_COLUMN                                         rating\n",
       "LABEL_COLUMN                                          None\n",
       "HF_MODEL_NAME                               albert-base-v2"
      ]
     },
     "execution_count": 6,
     "metadata": {},
     "output_type": "execute_result"
    }
   ],
   "source": [
    "# ========= Carga de parámetros desde params.yaml =========\n",
    "from pathlib import Path\n",
    "import yaml\n",
    "from datetime import datetime\n",
    "import pandas as pd\n",
    "\n",
    "# 1) \n",
    "PARAMS_FILE = Path(\"../params.yaml\")\n",
    "\n",
    "with open(PARAMS_FILE, \"r\") as f:\n",
    "    params = yaml.safe_load(f)\n",
    "\n",
    "# Sección específica para EDA\n",
    "eda_params = params.get(\"eda\", {})\n",
    "\n",
    "from pathlib import Path as _P\n",
    "DATA_PATH    = _P(eda_params.get(\"data_path\", \"data/trusted/sephora_clean/reviews_0_250.parquet\"))\n",
    "TEXT_COLUMN  = eda_params.get(\"text_column\", \"review_text\")\n",
    "STAR_COLUMN  = eda_params.get(\"star_column\", \"rating\")\n",
    "LABEL_COLUMN = eda_params.get(\"label_column\", None)\n",
    "STAR_TO_LABEL = eda_params.get(\"star_to_label\", {1:\"NEG\", 2:\"NEG\", 3:\"NEU\", 4:\"POS\", 5:\"POS\"})\n",
    "HF_MODEL_NAME = eda_params.get(\"hf_model_name\", None)\n",
    "\n",
    "# Carpeta de salida para reportes\n",
    "REPORT_DIR = _P('reports/eda') / datetime.now().strftime('%Y%m%d_%H%M%S')\n",
    "REPORT_DIR.mkdir(parents=True, exist_ok=True)\n",
    "\n",
    "print(\"Usando params desde:\", PARAMS_FILE.resolve())\n",
    "print('REPORT_DIR =>', REPORT_DIR.resolve())\n",
    "\n",
    "# Resumen visible de parámetros\n",
    "summary_params = pd.DataFrame([{\n",
    "    \"DATA_PATH\": str(DATA_PATH),\n",
    "    \"TEXT_COLUMN\": TEXT_COLUMN,\n",
    "    \"STAR_COLUMN\": STAR_COLUMN,\n",
    "    \"LABEL_COLUMN\": LABEL_COLUMN,\n",
    "    \"HF_MODEL_NAME\": HF_MODEL_NAME\n",
    "}]).T\n",
    "summary_params.columns = [\"value\"]\n",
    "summary_params\n"
   ]
  },
  {
   "cell_type": "code",
   "execution_count": 7,
   "id": "473f47c9",
   "metadata": {},
   "outputs": [],
   "source": [
    "# ========= Imports =========\n",
    "import re\n",
    "import json\n",
    "import math\n",
    "import unicodedata\n",
    "import pandas as pd\n",
    "import numpy as np\n",
    "import matplotlib.pyplot as plt\n",
    "\n",
    "from collections import Counter\n",
    "\n",
    "# Intento de import opcional para Hugging Face (tokenización real)\n",
    "try:\n",
    "    from transformers import AutoTokenizer\n",
    "except Exception:\n",
    "    AutoTokenizer = None\n"
   ]
  },
  {
   "cell_type": "code",
   "execution_count": 8,
   "id": "a05ecbe9",
   "metadata": {},
   "outputs": [
    {
     "name": "stdout",
     "output_type": "stream",
     "text": [
      "DATA_PATH: /home/pedro/MASTER_BIGDATA/TFM/TFM-Sentidata/data/trusted/sephora_clean/reviews_0_250\n",
      "Primeros .parquet detectados:\n",
      "  01 -> ../data/trusted/sephora_clean/reviews_0_250/part-00000-0dd06e32-8cac-43b1-b225-9fc84d0c20aa-c000.snappy.parquet\n",
      "  02 -> ../data/trusted/sephora_clean/reviews_0_250/part-00001-c1b9788e-502b-434f-8f04-db17e8b9f4ff-c000.snappy.parquet\n",
      "  03 -> ../data/trusted/sephora_clean/reviews_0_250/part-00002-7a985bb3-27eb-44c5-b5a3-1202cf917fd9-c000.snappy.parquet\n",
      "  04 -> ../data/trusted/sephora_clean/reviews_0_250/part-00003-72b0b216-4f02-4e14-a022-a0121956ee58-c000.snappy.parquet\n",
      "  05 -> ../data/trusted/sephora_clean/reviews_0_250/part-00004-f959944e-4318-4956-a335-d3df69776e8a-c000.snappy.parquet\n"
     ]
    }
   ],
   "source": [
    "from pathlib import Path\n",
    "p = Path(DATA_PATH)\n",
    "print(\"DATA_PATH:\", p.resolve())\n",
    "if p.is_dir():\n",
    "    print(\"Primeros .parquet detectados:\")\n",
    "    for i, f in enumerate(sorted(p.rglob(\"*.parquet\"))[:5], 1):\n",
    "        print(f\"  {i:02d} ->\", f)\n",
    "\n",
    "\n",
    "# ========= Carga de datos (carpeta o archivo) =========\n",
    "from pathlib import Path\n",
    "import pandas as pd\n",
    "\n",
    "def load_dataframe(path: Path) -> pd.DataFrame:\n",
    "    path = Path(path)\n",
    "    if not path.exists():\n",
    "        raise FileNotFoundError(f'No existe la ruta: {path}')\n",
    "\n",
    "    # Si es carpeta: concatenamos todos los .parquet dentro (recursivo)\n",
    "    if path.is_dir():\n",
    "        files = sorted(path.rglob(\"*.parquet\"))\n",
    "        if not files:\n",
    "            # Pista si fuera Delta Lake:\n",
    "            # si ves _delta_log aquí, es una tabla Delta (úsalo con pyarrow.dataset + deltalake/duckdb, etc.)\n",
    "            raise FileNotFoundError(f\"No se encontraron .parquet dentro de {path}\")\n",
    "        dfs = [pd.read_parquet(f) for f in files]\n",
    "        return pd.concat(dfs, ignore_index=True)\n",
    "\n",
    "    # Si es archivo único .parquet o .csv\n",
    "    if path.suffix.lower() == \".parquet\":\n",
    "        return pd.read_parquet(path)\n",
    "    if path.suffix.lower() in [\".csv\", \".txt\"]:\n",
    "        return pd.read_csv(path)\n",
    "\n",
    "    # Intento genérico\n",
    "    try:\n",
    "        return pd.read_parquet(path)\n",
    "    except Exception:\n",
    "        return pd.read_csv(path)\n"
   ]
  },
  {
   "cell_type": "code",
   "execution_count": 9,
   "id": "066cc798",
   "metadata": {},
   "outputs": [
    {
     "name": "stdout",
     "output_type": "stream",
     "text": [
      "Se encontraron 23 ficheros parquet en ../data/trusted/sephora_clean/reviews_0_250\n",
      "Shape: (600648, 20)\n",
      "Columnas: ['_c0', 'author_id', 'rating', 'is_recommended', 'helpfulness', 'total_feedback_count', 'total_neg_feedback_count', 'total_pos_feedback_count', 'submission_time', 'review_text', 'review_title', 'skin_tone', 'eye_color', 'skin_type', 'hair_color', 'product_id', 'product_name', 'brand_name', 'price_usd', 'review_id']\n"
     ]
    }
   ],
   "source": [
    "from pathlib import Path\n",
    "import pandas as pd\n",
    "\n",
    "def load_dataframe(path: Path) -> pd.DataFrame:\n",
    "    path = Path(path)\n",
    "    if not path.exists():\n",
    "        raise FileNotFoundError(f\"No existe la ruta: {path}\")\n",
    "\n",
    "    # Si es carpeta, concatena todos los parquet dentro\n",
    "    if path.is_dir():\n",
    "        files = sorted(path.rglob(\"*.parquet\"))\n",
    "        if not files:\n",
    "            raise FileNotFoundError(f\"No se encontraron .parquet dentro de {path}\")\n",
    "        print(f\"Se encontraron {len(files)} ficheros parquet en {path}\")\n",
    "        return pd.concat([pd.read_parquet(f) for f in files], ignore_index=True)\n",
    "\n",
    "    # Si es archivo único\n",
    "    if path.suffix.lower() == \".parquet\":\n",
    "        return pd.read_parquet(path)\n",
    "    if path.suffix.lower() in [\".csv\", \".txt\"]:\n",
    "        return pd.read_csv(path)\n",
    "\n",
    "    raise ValueError(f\"No se reconoce el formato del archivo: {path}\")\n",
    "\n",
    "# Ahora sí cargamos\n",
    "df = load_dataframe(DATA_PATH)\n",
    "print(\"Shape:\", df.shape)\n",
    "print(\"Columnas:\", df.columns.tolist()[:30])"
   ]
  },
  {
   "cell_type": "code",
   "execution_count": 10,
   "id": "bf16bc76",
   "metadata": {},
   "outputs": [
    {
     "name": "stdout",
     "output_type": "stream",
     "text": [
      "Texto en: 'review_text' | Etiqueta en: 'sentiment_3c' | Filas eliminadas por NaN: 0\n",
      "Etiquetas 3-clases (primeros 10): ['NEU', 'POS', 'NEG', 'POS', 'POS', 'POS', 'POS', 'NEG', 'NEU', 'NEG']\n",
      "Distribución etiquetas:\n",
      " sentiment_3c\n",
      "POS    494699\n",
      "NEG     62005\n",
      "NEU     43944\n",
      "Name: count, dtype: int64\n"
     ]
    }
   ],
   "source": [
    "\n",
    "\n",
    "# ========= Validación de columnas y derivación de etiquetas (robusta) =========\n",
    "import numpy as np\n",
    "\n",
    "# 1) Detectar columna de texto\n",
    "TEXT_CANDIDATES = [TEXT_COLUMN, \"review_text\", \"text\", \"review\", \"content\", \"body\"]\n",
    "TEXT_COL = next((c for c in TEXT_CANDIDATES if c in df.columns), None)\n",
    "if TEXT_COL is None:\n",
    "    raise ValueError(f\"No se encontró columna de texto. Probadas: {TEXT_CANDIDATES}\\n\"\n",
    "                     f\"Columnas disponibles: {list(df.columns)[:30]}\")\n",
    "\n",
    "# 2) Detectar/derivar columna de etiqueta 3-clases\n",
    "#    a) Si ya viene una etiqueta lista\n",
    "LABEL_CANDIDATES = [LABEL_COLUMN, \"label\", \"sentiment\", \"sentiment_3c\", \"target\"]\n",
    "LABEL_CANDIDATES = [c for c in LABEL_CANDIDATES if c]  # quita None\n",
    "LABEL_COL = next((c for c in LABEL_CANDIDATES if c in df.columns), None)\n",
    "\n",
    "if LABEL_COL is None:\n",
    "    #    b) Derivar desde rating si existe\n",
    "    STAR_CANDIDATES = [STAR_COLUMN, \"rating\", \"stars\", \"score\", \"overall\", \"rating_value\"]\n",
    "    STAR_COL = next((c for c in STAR_CANDIDATES if c in df.columns), None)\n",
    "    if STAR_COL is None:\n",
    "        raise ValueError(f\"No hay columna de etiqueta ni de estrellas.\\n\"\n",
    "                         f\"Probadas etiquetas: {LABEL_CANDIDATES} | Probadas estrellas: {STAR_CANDIDATES}\\n\"\n",
    "                         f\"Columnas disponibles: {list(df.columns)[:30]}\")\n",
    "    # Normalizar rating a int 1–5\n",
    "    tmp = pd.to_numeric(df[STAR_COL], errors=\"coerce\")\n",
    "    # Si viene en 0–1 o 0–5, intentamos escalar\n",
    "    if tmp.max() <= 1.0:\n",
    "        tmp = (tmp * 5).round()\n",
    "    tmp = tmp.round().clip(1, 5).astype(\"Int64\")\n",
    "    # Map a NEG/NEU/POS\n",
    "    STAR_TO_LABEL = {1:\"NEG\", 2:\"NEG\", 3:\"NEU\", 4:\"POS\", 5:\"POS\"}\n",
    "    df[\"sentiment_3c\"] = tmp.map(STAR_TO_LABEL)\n",
    "    LABEL_COL = \"sentiment_3c\"\n",
    "else:\n",
    "    # Asegurar tipo categórico\n",
    "    df[LABEL_COL] = df[LABEL_COL].astype(\"category\")\n",
    "\n",
    "# 3) Limpiar filas inválidas\n",
    "before = len(df)\n",
    "df = df.dropna(subset=[TEXT_COL, LABEL_COL]).copy()\n",
    "# Forzar str para texto\n",
    "df[TEXT_COL] = df[TEXT_COL].astype(str)\n",
    "after = len(df)\n",
    "\n",
    "print(f\"Texto en: '{TEXT_COL}' | Etiqueta en: '{LABEL_COL}' | Filas eliminadas por NaN: {before - after}\")\n",
    "print(\"Etiquetas 3-clases (primeros 10):\", df[LABEL_COL].head(10).tolist())\n",
    "print(\"Distribución etiquetas:\\n\", df[LABEL_COL].value_counts(dropna=False))\n",
    "\n"
   ]
  },
  {
   "cell_type": "code",
   "execution_count": 11,
   "id": "7b50c919",
   "metadata": {},
   "outputs": [
    {
     "name": "stdout",
     "output_type": "stream",
     "text": [
      "OK -> TEXT_COLUMN='review_text' | LABEL_COLUMN='sentiment_3c' | Filas eliminadas: 0\n",
      "Distribución rápida: {'POS': 494699, 'NEG': 62005, 'NEU': 43944}\n"
     ]
    },
    {
     "data": {
      "text/html": [
       "<div>\n",
       "<style scoped>\n",
       "    .dataframe tbody tr th:only-of-type {\n",
       "        vertical-align: middle;\n",
       "    }\n",
       "\n",
       "    .dataframe tbody tr th {\n",
       "        vertical-align: top;\n",
       "    }\n",
       "\n",
       "    .dataframe thead th {\n",
       "        text-align: right;\n",
       "    }\n",
       "</style>\n",
       "<table border=\"1\" class=\"dataframe\">\n",
       "  <thead>\n",
       "    <tr style=\"text-align: right;\">\n",
       "      <th></th>\n",
       "      <th>count</th>\n",
       "      <th>ratio</th>\n",
       "    </tr>\n",
       "    <tr>\n",
       "      <th>sentiment_3c</th>\n",
       "      <th></th>\n",
       "      <th></th>\n",
       "    </tr>\n",
       "  </thead>\n",
       "  <tbody>\n",
       "    <tr>\n",
       "      <th>NEG</th>\n",
       "      <td>62005</td>\n",
       "      <td>0.1032</td>\n",
       "    </tr>\n",
       "    <tr>\n",
       "      <th>NEU</th>\n",
       "      <td>43944</td>\n",
       "      <td>0.0732</td>\n",
       "    </tr>\n",
       "    <tr>\n",
       "      <th>POS</th>\n",
       "      <td>494699</td>\n",
       "      <td>0.8236</td>\n",
       "    </tr>\n",
       "  </tbody>\n",
       "</table>\n",
       "</div>"
      ],
      "text/plain": [
       "               count   ratio\n",
       "sentiment_3c                \n",
       "NEG            62005  0.1032\n",
       "NEU            43944  0.0732\n",
       "POS           494699  0.8236"
      ]
     },
     "metadata": {},
     "output_type": "display_data"
    },
    {
     "name": "stdout",
     "output_type": "stream",
     "text": [
      "Guardado: reports/eda/20250909_202117/class_distribution.csv\n"
     ]
    },
    {
     "data": {
      "image/png": "[encoded data removed]",
      "text/plain": [
       "<Figure size 640x480 with 1 Axes>"
      ]
     },
     "metadata": {},
     "output_type": "display_data"
    },
    {
     "name": "stdout",
     "output_type": "stream",
     "text": [
      "Guardado: reports/eda/20250909_202117/class_distribution.png\n"
     ]
    }
   ],
   "source": [
    "# ====== Asegurar LABEL_COLUMN válido (derivar si hace falta) ======\n",
    "import pandas as pd\n",
    "import numpy as np\n",
    "\n",
    "# 1) Detectar texto\n",
    "TEXT_CANDIDATES = [TEXT_COLUMN, \"review_text\", \"text\", \"review\", \"content\", \"body\"]\n",
    "TEXT_COL = next((c for c in TEXT_CANDIDATES if isinstance(c, str) and c in df.columns), None)\n",
    "if TEXT_COL is None:\n",
    "    raise ValueError(f\"No se encontró columna de texto. Probadas: {TEXT_CANDIDATES}\\nDisponibles: {list(df.columns)[:40]}\")\n",
    "\n",
    "# 2) Si ya existe una etiqueta, úsala; si no, derivamos desde rating\n",
    "LABEL_CANDIDATES = [LABEL_COLUMN, \"sentiment_3c\", \"label\", \"sentiment\", \"target\"]\n",
    "LABEL_CANDIDATES = [c for c in LABEL_CANDIDATES if isinstance(c, str)]\n",
    "LABEL_COL = next((c for c in LABEL_CANDIDATES if c in df.columns), None)\n",
    "\n",
    "if LABEL_COL is None:\n",
    "    # Derivar desde stars/rating\n",
    "    STAR_CANDIDATES = [STAR_COLUMN, \"rating\", \"stars\", \"score\", \"overall\", \"rating_value\"]\n",
    "    STAR_COL = next((c for c in STAR_CANDIDATES if isinstance(c, str) and c in df.columns), None)\n",
    "    if STAR_COL is None:\n",
    "        raise ValueError(f\"No hay columna de etiqueta ni de estrellas.\\n\"\n",
    "                         f\"Probadas etiquetas: {LABEL_CANDIDATES} | Probadas estrellas: {STAR_CANDIDATES}\\n\"\n",
    "                         f\"Disponibles: {list(df.columns)[:40]}\")\n",
    "\n",
    "    # Normalizar rating a int 1–5\n",
    "    stars = pd.to_numeric(df[STAR_COL], errors=\"coerce\")\n",
    "    if stars.max() <= 1.0:  # por si viene 0–1\n",
    "        stars = (stars * 5)\n",
    "    stars = stars.round().clip(1, 5).astype(\"Int64\")\n",
    "\n",
    "    # Mapeo NEG/NEU/POS (usa el del params si existe; si no, fallback)\n",
    "    _STAR_TO_LABEL = locals().get(\"STAR_TO_LABEL\", {1:\"NEG\", 2:\"NEG\", 3:\"NEU\", 4:\"POS\", 5:\"POS\"})\n",
    "    df[\"sentiment_3c\"] = stars.map(_STAR_TO_LABEL)\n",
    "    LABEL_COL = \"sentiment_3c\"\n",
    "else:\n",
    "    df[LABEL_COL] = df[LABEL_COL].astype(\"category\")\n",
    "\n",
    "# 3) Limpieza básica\n",
    "before = len(df)\n",
    "df = df.dropna(subset=[TEXT_COL, LABEL_COL]).copy()\n",
    "df[TEXT_COL] = df[TEXT_COL].astype(str)\n",
    "after = len(df)\n",
    "\n",
    "# 4) Exponer los nombres para el resto del notebook\n",
    "LABEL_COLUMN = LABEL_COL\n",
    "TEXT_COLUMN = TEXT_COL\n",
    "\n",
    "print(f\"OK -> TEXT_COLUMN='{TEXT_COLUMN}' | LABEL_COLUMN='{LABEL_COLUMN}' | Filas eliminadas: {before - after}\")\n",
    "print(\"Distribución rápida:\", df[LABEL_COLUMN].value_counts(dropna=False).to_dict())# ========= Distribución de clases =========\n",
    "counts = df[LABEL_COLUMN].value_counts().sort_index()\n",
    "prop = (counts / counts.sum()).round(4)\n",
    "\n",
    "class_dist = pd.DataFrame({'count': counts, 'ratio': prop})\n",
    "display(class_dist)\n",
    "\n",
    "# Guardamos\n",
    "class_dist_path = REPORT_DIR / 'class_distribution.csv'\n",
    "class_dist.to_csv(class_dist_path, index=True)\n",
    "print('Guardado:', class_dist_path)\n",
    "\n",
    "# Plot\n",
    "plt.figure()\n",
    "counts.plot(kind='bar')\n",
    "plt.title('Distribución de clases (3-clases)')\n",
    "plt.xlabel('Clase')\n",
    "plt.ylabel('Número de instancias')\n",
    "plot_path = REPORT_DIR / 'class_distribution.png'\n",
    "plt.tight_layout()\n",
    "plt.savefig(plot_path, dpi=150)\n",
    "plt.show()\n",
    "print('Guardado:', plot_path)\n"
   ]
  },
  {
   "cell_type": "code",
   "execution_count": 12,
   "id": "b0d0b62c",
   "metadata": {},
   "outputs": [
    {
     "name": "stdout",
     "output_type": "stream",
     "text": [
      "len_words stats:\n",
      "count    600648.000000\n",
      "mean         59.270301\n",
      "std          42.954060\n",
      "min           1.000000\n",
      "50%          49.000000\n",
      "75%          75.000000\n",
      "90%         111.000000\n",
      "95%         140.000000\n",
      "99%         217.000000\n",
      "max         974.000000\n",
      "Name: _len_words, dtype: float64\n",
      "\n",
      "len_chars stats:\n",
      "count    600648.000000\n",
      "mean        313.010932\n",
      "std         227.732643\n",
      "min           2.000000\n",
      "50%         258.000000\n",
      "75%         396.000000\n",
      "90%         585.000000\n",
      "95%         739.000000\n",
      "99%        1156.000000\n",
      "max        5508.000000\n",
      "Name: _len_chars, dtype: float64\n"
     ]
    },
    {
     "data": {
      "image/png": "[encoded data removed]",
      "text/plain": [
       "<Figure size 640x480 with 1 Axes>"
      ]
     },
     "metadata": {},
     "output_type": "display_data"
    },
    {
     "name": "stdout",
     "output_type": "stream",
     "text": [
      "Guardado: reports/eda/20250909_202117/hist_len_words.png\n"
     ]
    },
    {
     "data": {
      "image/png": "[encoded data removed]",
      "text/plain": [
       "<Figure size 640x480 with 1 Axes>"
      ]
     },
     "metadata": {},
     "output_type": "display_data"
    },
    {
     "name": "stdout",
     "output_type": "stream",
     "text": [
      "Guardado: reports/eda/20250909_202117/hist_len_chars.png\n"
     ]
    }
   ],
   "source": [
    "# ========= Longitudes de texto =========\n",
    "def basic_word_len(s: str) -> int:\n",
    "    return len(s.split())\n",
    "\n",
    "def char_len(s: str) -> int:\n",
    "    return len(s)\n",
    "\n",
    "df['_len_words'] = df[TEXT_COLUMN].apply(basic_word_len)\n",
    "df['_len_chars'] = df[TEXT_COLUMN].apply(char_len)\n",
    "\n",
    "print('len_words stats:')\n",
    "print(df['_len_words'].describe(percentiles=[.5, .75, .9, .95, .99]))\n",
    "print('\\nlen_chars stats:')\n",
    "print(df['_len_chars'].describe(percentiles=[.5, .75, .9, .95, .99]))\n",
    "\n",
    "# Histograma words\n",
    "plt.figure()\n",
    "df['_len_words'].hist(bins=50)\n",
    "plt.title('Histograma — Longitud (palabras)')\n",
    "plt.xlabel('Nº palabras')\n",
    "plt.ylabel('Frecuencia')\n",
    "lw_path = REPORT_DIR / 'hist_len_words.png'\n",
    "plt.tight_layout()\n",
    "plt.savefig(lw_path, dpi=150)\n",
    "plt.show()\n",
    "print('Guardado:', lw_path)\n",
    "\n",
    "# Histograma chars\n",
    "plt.figure()\n",
    "df['_len_chars'].hist(bins=50)\n",
    "plt.title('Histograma — Longitud (caracteres)')\n",
    "plt.xlabel('Nº caracteres')\n",
    "plt.ylabel('Frecuencia')\n",
    "lc_path = REPORT_DIR / 'hist_len_chars.png'\n",
    "plt.tight_layout()\n",
    "plt.savefig(lc_path, dpi=150)\n",
    "plt.show()\n",
    "print('Guardado:', lc_path)\n"
   ]
  },
  {
   "cell_type": "code",
   "execution_count": 20,
   "id": "52acde73",
   "metadata": {},
   "outputs": [
    {
     "name": "stdout",
     "output_type": "stream",
     "text": [
      "Cargando tokenizer de HF: albert-base-v2\n"
     ]
    },
    {
     "name": "stderr",
     "output_type": "stream",
     "text": [
      "Token indices sequence length is longer than the specified maximum sequence length for this model (529 > 512). Running this sequence through the model will result in indexing errors\n"
     ]
    },
    {
     "name": "stdout",
     "output_type": "stream",
     "text": [
      "count    5000.000000\n",
      "mean       76.959200\n",
      "std        53.640453\n",
      "min         6.000000\n",
      "50%        64.000000\n",
      "75%        97.000000\n",
      "90%       142.100000\n",
      "95%       178.050000\n",
      "99%       276.030000\n",
      "max       529.000000\n",
      "Name: _len_hf, dtype: float64\n"
     ]
    },
    {
     "data": {
      "image/png": "[encoded data removed]",
      "text/plain": [
       "<Figure size 640x480 with 1 Axes>"
      ]
     },
     "metadata": {},
     "output_type": "display_data"
    },
    {
     "name": "stdout",
     "output_type": "stream",
     "text": [
      "Guardado: reports/eda/20250909_202117/hist_len_tokens_albert-base-v2.png\n"
     ]
    }
   ],
   "source": [
    "# ========= (Opcional) Longitud en tokens HF =========\n",
    "use_hf = HF_MODEL_NAME is not None and AutoTokenizer is not None\n",
    "if use_hf:\n",
    "    print('Cargando tokenizer de HF:', HF_MODEL_NAME)\n",
    "    tok = AutoTokenizer.from_pretrained(HF_MODEL_NAME)\n",
    "    def hf_len(s: str) -> int:\n",
    "        return len(tok(s, truncation=False, padding=False)['input_ids'])\n",
    "    # Muestra para acelerar (opcional)\n",
    "    sample_size = min(5000, len(df))\n",
    "    sample = df.sample(sample_size, random_state=42)\n",
    "    sample = sample.assign(_len_hf=sample[TEXT_COLUMN].apply(hf_len))\n",
    "    print(sample['_len_hf'].describe(percentiles=[.5, .75, .9, .95, .99]))\n",
    "\n",
    "    plt.figure()\n",
    "    sample['_len_hf'].hist(bins=50)\n",
    "    plt.title(f'Histograma — Longitud en tokens ({HF_MODEL_NAME})')\n",
    "    plt.xlabel('Nº tokens')\n",
    "    plt.ylabel('Frecuencia')\n",
    "    hf_path = REPORT_DIR / f'hist_len_tokens_{HF_MODEL_NAME.replace(\"/\", \"_\")}.png'\n",
    "    plt.tight_layout()\n",
    "    plt.savefig(hf_path, dpi=150)\n",
    "    plt.show()\n",
    "    print('Guardado:', hf_path)\n",
    "else:\n",
    "    print('Tokenizer HF no configurado. Ajusta eda.hf_model_name en params.yaml para medir tokens reales.')\n"
   ]
  },
  {
   "cell_type": "code",
   "execution_count": 14,
   "id": "61b86c28",
   "metadata": {},
   "outputs": [
    {
     "name": "stdout",
     "output_type": "stream",
     "text": [
      "Duplicados exactos por texto: 92223 (15.35%)\n"
     ]
    },
    {
     "data": {
      "text/html": [
       "<div>\n",
       "<style scoped>\n",
       "    .dataframe tbody tr th:only-of-type {\n",
       "        vertical-align: middle;\n",
       "    }\n",
       "\n",
       "    .dataframe tbody tr th {\n",
       "        vertical-align: top;\n",
       "    }\n",
       "\n",
       "    .dataframe thead th {\n",
       "        text-align: right;\n",
       "    }\n",
       "</style>\n",
       "<table border=\"1\" class=\"dataframe\">\n",
       "  <thead>\n",
       "    <tr style=\"text-align: right;\">\n",
       "      <th></th>\n",
       "      <th>review_text</th>\n",
       "      <th>sentiment_3c</th>\n",
       "    </tr>\n",
       "  </thead>\n",
       "  <tbody>\n",
       "    <tr>\n",
       "      <th>223</th>\n",
       "      <td>i received this product complimentary for test...</td>\n",
       "      <td>POS</td>\n",
       "    </tr>\n",
       "    <tr>\n",
       "      <th>1344</th>\n",
       "      <td>amazing product! i’ve only been using it for a...</td>\n",
       "      <td>POS</td>\n",
       "    </tr>\n",
       "    <tr>\n",
       "      <th>1733</th>\n",
       "      <td>for the high price-tag i honestly had high hop...</td>\n",
       "      <td>NEU</td>\n",
       "    </tr>\n",
       "    <tr>\n",
       "      <th>2403</th>\n",
       "      <td>i wear waterproof mascara and this removes it ...</td>\n",
       "      <td>POS</td>\n",
       "    </tr>\n",
       "    <tr>\n",
       "      <th>2790</th>\n",
       "      <td>it has a smooth creamy consistency. it left my...</td>\n",
       "      <td>POS</td>\n",
       "    </tr>\n",
       "    <tr>\n",
       "      <th>3286</th>\n",
       "      <td>very underwhelmed by this product. typically w...</td>\n",
       "      <td>NEG</td>\n",
       "    </tr>\n",
       "    <tr>\n",
       "      <th>4353</th>\n",
       "      <td>i rarely rate products, but i’ve been so impre...</td>\n",
       "      <td>POS</td>\n",
       "    </tr>\n",
       "    <tr>\n",
       "      <th>4951</th>\n",
       "      <td>i got a small jar of this in a beauty box and ...</td>\n",
       "      <td>POS</td>\n",
       "    </tr>\n",
       "    <tr>\n",
       "      <th>5018</th>\n",
       "      <td>i love yttp products but this one was just oka...</td>\n",
       "      <td>NEU</td>\n",
       "    </tr>\n",
       "    <tr>\n",
       "      <th>5477</th>\n",
       "      <td>this is a great balm that gets rid of impuriti...</td>\n",
       "      <td>POS</td>\n",
       "    </tr>\n",
       "  </tbody>\n",
       "</table>\n",
       "</div>"
      ],
      "text/plain": [
       "                                            review_text sentiment_3c\n",
       "223   i received this product complimentary for test...          POS\n",
       "1344  amazing product! i’ve only been using it for a...          POS\n",
       "1733  for the high price-tag i honestly had high hop...          NEU\n",
       "2403  i wear waterproof mascara and this removes it ...          POS\n",
       "2790  it has a smooth creamy consistency. it left my...          POS\n",
       "3286  very underwhelmed by this product. typically w...          NEG\n",
       "4353  i rarely rate products, but i’ve been so impre...          POS\n",
       "4951  i got a small jar of this in a beauty box and ...          POS\n",
       "5018  i love yttp products but this one was just oka...          NEU\n",
       "5477  this is a great balm that gets rid of impuriti...          POS"
      ]
     },
     "metadata": {},
     "output_type": "display_data"
    },
    {
     "name": "stdout",
     "output_type": "stream",
     "text": [
      "Guardado: reports/eda/20250909_202117/duplicates_sample.csv\n"
     ]
    }
   ],
   "source": [
    "# ========= Duplicados =========\n",
    "dup_mask = df.duplicated(subset=[TEXT_COLUMN], keep='first')\n",
    "n_dups = int(dup_mask.sum())\n",
    "print(f'Duplicados exactos por texto: {n_dups} ({n_dups/len(df):.2%})')\n",
    "\n",
    "dups_df = df.loc[dup_mask, [TEXT_COLUMN, LABEL_COLUMN]].head(10)\n",
    "display(dups_df)\n",
    "\n",
    "# Guardamos listado (muestra)\n",
    "dup_path = REPORT_DIR / 'duplicates_sample.csv'\n",
    "dups_df.to_csv(dup_path, index=False)\n",
    "print('Guardado:', dup_path)\n"
   ]
  },
  {
   "cell_type": "code",
   "execution_count": 15,
   "id": "a2f349b4",
   "metadata": {},
   "outputs": [
    {
     "data": {
      "text/html": [
       "<div>\n",
       "<style scoped>\n",
       "    .dataframe tbody tr th:only-of-type {\n",
       "        vertical-align: middle;\n",
       "    }\n",
       "\n",
       "    .dataframe tbody tr th {\n",
       "        vertical-align: top;\n",
       "    }\n",
       "\n",
       "    .dataframe thead th {\n",
       "        text-align: right;\n",
       "    }\n",
       "</style>\n",
       "<table border=\"1\" class=\"dataframe\">\n",
       "  <thead>\n",
       "    <tr style=\"text-align: right;\">\n",
       "      <th></th>\n",
       "      <th>review_text</th>\n",
       "      <th>text_clean</th>\n",
       "    </tr>\n",
       "  </thead>\n",
       "  <tbody>\n",
       "    <tr>\n",
       "      <th>0</th>\n",
       "      <td>i received this product for free from influens...</td>\n",
       "      <td>i received this product for free from influens...</td>\n",
       "    </tr>\n",
       "    <tr>\n",
       "      <th>1</th>\n",
       "      <td>decent product for gentle exfoliation, however...</td>\n",
       "      <td>decent product for gentle exfoliation, however...</td>\n",
       "    </tr>\n",
       "    <tr>\n",
       "      <th>2</th>\n",
       "      <td>definitely not one i’d even recommend for comb...</td>\n",
       "      <td>definitely not one i’d even recommend for comb...</td>\n",
       "    </tr>\n",
       "    <tr>\n",
       "      <th>3</th>\n",
       "      <td>really enjoy the packaging and product but fin...</td>\n",
       "      <td>really enjoy the packaging and product but fin...</td>\n",
       "    </tr>\n",
       "    <tr>\n",
       "      <th>4</th>\n",
       "      <td>melts away eye makeup quickly. i use it as a d...</td>\n",
       "      <td>melts away eye makeup quickly. i use it as a d...</td>\n",
       "    </tr>\n",
       "  </tbody>\n",
       "</table>\n",
       "</div>"
      ],
      "text/plain": [
       "                                         review_text  \\\n",
       "0  i received this product for free from influens...   \n",
       "1  decent product for gentle exfoliation, however...   \n",
       "2  definitely not one i’d even recommend for comb...   \n",
       "3  really enjoy the packaging and product but fin...   \n",
       "4  melts away eye makeup quickly. i use it as a d...   \n",
       "\n",
       "                                          text_clean  \n",
       "0  i received this product for free from influens...  \n",
       "1  decent product for gentle exfoliation, however...  \n",
       "2  definitely not one i’d even recommend for comb...  \n",
       "3  really enjoy the packaging and product but fin...  \n",
       "4  melts away eye makeup quickly. i use it as a d...  "
      ]
     },
     "metadata": {},
     "output_type": "display_data"
    },
    {
     "name": "stdout",
     "output_type": "stream",
     "text": [
      "Guardado: reports/eda/20250909_202117/sample_cleaning.csv\n"
     ]
    }
   ],
   "source": [
    "# ========= Limpieza mínima =========\n",
    "import re, unicodedata\n",
    "\n",
    "def normalize_text(s: str) -> str:\n",
    "    # Normaliza Unicode\n",
    "    s = unicodedata.normalize('NFKC', s)\n",
    "    # Sustituye múltiples espacios\n",
    "    s = re.sub(r'\\s+', ' ', s).strip()\n",
    "    # Reducir caracteres repetidos (e.g., 'bueeeno' -> 'bueno')\n",
    "    s = re.sub(r'(.)\\1{2,}', r'\\1\\1', s)  # permite hasta doble repetición\n",
    "    return s\n",
    "\n",
    "df['text_clean'] = df[TEXT_COLUMN].apply(normalize_text)\n",
    "\n",
    "# Ejemplos antes/después\n",
    "sample_clean = df[[TEXT_COLUMN, 'text_clean']].head(5)\n",
    "display(sample_clean)\n",
    "\n",
    "clean_path = REPORT_DIR / 'sample_cleaning.csv'\n",
    "sample_clean.to_csv(clean_path, index=False)\n",
    "print('Guardado:', clean_path)\n"
   ]
  },
  {
   "cell_type": "code",
   "execution_count": 16,
   "id": "36a61c44",
   "metadata": {},
   "outputs": [
    {
     "data": {
      "text/plain": [
       "_lang\n",
       "en     4865\n",
       "unk     127\n",
       "es        8\n",
       "Name: count, dtype: int64"
      ]
     },
     "metadata": {},
     "output_type": "display_data"
    },
    {
     "name": "stdout",
     "output_type": "stream",
     "text": [
      "Guardado: reports/eda/20250909_202117/lang_counts_sample.csv\n"
     ]
    },
    {
     "data": {
      "image/png": "[encoded data removed]",
      "text/plain": [
       "<Figure size 640x480 with 1 Axes>"
      ]
     },
     "metadata": {},
     "output_type": "display_data"
    },
    {
     "name": "stdout",
     "output_type": "stream",
     "text": [
      "Guardado: reports/eda/20250909_202117/lang_counts_sample.png\n"
     ]
    }
   ],
   "source": [
    "# ========= Detección de idioma (heurística simple) =========\n",
    "def guess_lang_basic(text: str) -> str:\n",
    "    t = text.lower()\n",
    "    es_hits = sum(w in t for w in [' el ', ' la ', ' de ', ' que ', ' y '])\n",
    "    en_hits = sum(w in t for w in [' the ', ' and ', ' is ', ' it ', ' this '])\n",
    "    if es_hits > en_hits:\n",
    "        return 'es'\n",
    "    elif en_hits > es_hits:\n",
    "        return 'en'\n",
    "    else:\n",
    "        return 'unk'\n",
    "\n",
    "sample_lang = df.sample(min(5000, len(df)), random_state=42).copy()\n",
    "sample_lang['_lang'] = sample_lang[TEXT_COLUMN].apply(guess_lang_basic)\n",
    "lang_counts = sample_lang['_lang'].value_counts()\n",
    "display(lang_counts)\n",
    "\n",
    "lang_path = REPORT_DIR / 'lang_counts_sample.csv'\n",
    "lang_counts.to_csv(lang_path)\n",
    "print('Guardado:', lang_path)\n",
    "\n",
    "plt.figure()\n",
    "lang_counts.plot(kind='bar')\n",
    "plt.title('Idioma (heurística) en muestra')\n",
    "plt.xlabel('Idioma')\n",
    "plt.ylabel('Frecuencia')\n",
    "lang_plot = REPORT_DIR / 'lang_counts_sample.png'\n",
    "plt.tight_layout()\n",
    "plt.savefig(lang_plot, dpi=150)\n",
    "plt.show()\n",
    "print('Guardado:', lang_plot)\n"
   ]
  },
  {
   "cell_type": "code",
   "execution_count": 17,
   "id": "e6f0d827",
   "metadata": {},
   "outputs": [
    {
     "name": "stdout",
     "output_type": "stream",
     "text": [
      "{\n",
      "  \"words_p95\": 140,\n",
      "  \"words_p99\": 217,\n",
      "  \"suggested_max_len\": 140\n",
      "}\n",
      "Guardado: reports/eda/20250909_202117/max_len_recommendation.json\n"
     ]
    }
   ],
   "source": [
    "# ========= Sugerencia de max_len =========\n",
    "p95 = int(np.percentile(df['_len_words'], 95))\n",
    "p99 = int(np.percentile(df['_len_words'], 99))\n",
    "\n",
    "recommendation = {\n",
    "    'words_p95': p95,\n",
    "    'words_p99': p99,\n",
    "    'suggested_max_len': int(math.ceil(p95 / 1.0))  # ajusta el factor si quieres ser más conservador\n",
    "}\n",
    "print(json.dumps(recommendation, indent=2))\n",
    "\n",
    "rec_path = REPORT_DIR / 'max_len_recommendation.json'\n",
    "with open(rec_path, 'w') as f:\n",
    "    json.dump(recommendation, f, indent=2)\n",
    "print('Guardado:', rec_path)\n"
   ]
  },
  {
   "cell_type": "code",
   "execution_count": 18,
   "id": "c36296c7",
   "metadata": {},
   "outputs": [
    {
     "data": {
      "text/html": [
       "<div>\n",
       "<style scoped>\n",
       "    .dataframe tbody tr th:only-of-type {\n",
       "        vertical-align: middle;\n",
       "    }\n",
       "\n",
       "    .dataframe tbody tr th {\n",
       "        vertical-align: top;\n",
       "    }\n",
       "\n",
       "    .dataframe thead th {\n",
       "        text-align: right;\n",
       "    }\n",
       "</style>\n",
       "<table border=\"1\" class=\"dataframe\">\n",
       "  <thead>\n",
       "    <tr style=\"text-align: right;\">\n",
       "      <th></th>\n",
       "      <th>class</th>\n",
       "      <th>total</th>\n",
       "      <th>train</th>\n",
       "      <th>val</th>\n",
       "      <th>test</th>\n",
       "    </tr>\n",
       "  </thead>\n",
       "  <tbody>\n",
       "    <tr>\n",
       "      <th>0</th>\n",
       "      <td>NEG</td>\n",
       "      <td>62005</td>\n",
       "      <td>49604</td>\n",
       "      <td>6200</td>\n",
       "      <td>6201</td>\n",
       "    </tr>\n",
       "    <tr>\n",
       "      <th>1</th>\n",
       "      <td>NEU</td>\n",
       "      <td>43944</td>\n",
       "      <td>35155</td>\n",
       "      <td>4394</td>\n",
       "      <td>4395</td>\n",
       "    </tr>\n",
       "    <tr>\n",
       "      <th>2</th>\n",
       "      <td>POS</td>\n",
       "      <td>494699</td>\n",
       "      <td>395759</td>\n",
       "      <td>49470</td>\n",
       "      <td>49470</td>\n",
       "    </tr>\n",
       "  </tbody>\n",
       "</table>\n",
       "</div>"
      ],
      "text/plain": [
       "  class   total   train    val   test\n",
       "0   NEG   62005   49604   6200   6201\n",
       "1   NEU   43944   35155   4394   4395\n",
       "2   POS  494699  395759  49470  49470"
      ]
     },
     "metadata": {},
     "output_type": "display_data"
    },
    {
     "name": "stdout",
     "output_type": "stream",
     "text": [
      "Guardado: reports/eda/20250909_202117/split_plan_counts.csv\n"
     ]
    }
   ],
   "source": [
    "# ========= Conteo estratificado sugerido (train/val/test) =========\n",
    "TOTAL = len(df)\n",
    "train_ratio, val_ratio, test_ratio = 0.8, 0.1, 0.1\n",
    "per_class = df[LABEL_COLUMN].value_counts().sort_index()\n",
    "\n",
    "split_plan = []\n",
    "for cls, cnt in per_class.items():\n",
    "    train_n = int(round(cnt * train_ratio))\n",
    "    val_n = int(round(cnt * val_ratio))\n",
    "    test_n = cnt - train_n - val_n\n",
    "    split_plan.append({'class': cls, 'total': int(cnt), 'train': train_n, 'val': val_n, 'test': test_n})\n",
    "\n",
    "split_df = pd.DataFrame(split_plan)\n",
    "display(split_df)\n",
    "\n",
    "split_path = REPORT_DIR / 'split_plan_counts.csv'\n",
    "split_df.to_csv(split_path, index=False)\n",
    "print('Guardado:', split_path)\n"
   ]
  },
  {
   "cell_type": "code",
   "execution_count": 19,
   "id": "be00b4b0",
   "metadata": {},
   "outputs": [
    {
     "name": "stdout",
     "output_type": "stream",
     "text": [
      "Guardado: reports/eda/20250909_202117/eda_summary.json\n",
      "\n",
      "Listo: revisa la carpeta de reportes para figuras y tablas.\n"
     ]
    }
   ],
   "source": [
    "# ========= Resumen ligero (EDA) =========\n",
    "summary = {\n",
    "    'n_rows': int(len(df)),\n",
    "    'n_cols': int(df.shape[1]),\n",
    "    'text_column': TEXT_COLUMN,\n",
    "    'label_column': LABEL_COLUMN,\n",
    "    'class_distribution': {cls: int(cnt) for cls, cnt in df[LABEL_COLUMN].value_counts().sort_index().items()},\n",
    "    'len_words_stats': df['_len_words'].describe().to_dict(),\n",
    "    'len_chars_stats': df['_len_chars'].describe().to_dict(),\n",
    "    'duplicates_text_pct': float((df.duplicated(subset=[TEXT_COLUMN]).sum()) / len(df))\n",
    "}\n",
    "\n",
    "summary_path = REPORT_DIR / 'eda_summary.json'\n",
    "with open(summary_path, 'w') as f:\n",
    "    json.dump(summary, f, indent=2)\n",
    "\n",
    "print('Guardado:', summary_path)\n",
    "print('\\nListo: revisa la carpeta de reportes para figuras y tablas.')\n"
   ]
  }
 ],
 "metadata": {
  "kernelspec": {
   "display_name": "Python (master_bigdata)",
   "language": "python",
   "name": "master_bigdata_env"
  },
  "language_info": {
   "codemirror_mode": {
    "name": "ipython",
    "version": 3
   },
   "file_extension": ".py",
   "mimetype": "text/x-python",
   "name": "python",
   "nbconvert_exporter": "python",
   "pygments_lexer": "ipython3",
   "version": "3.10.12"
  }
 },
 "nbformat": 4,
 "nbformat_minor": 5
}
