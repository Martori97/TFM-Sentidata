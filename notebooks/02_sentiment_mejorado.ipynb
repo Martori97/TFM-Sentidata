{
 "cells": [
  {
   "cell_type": "code",
   "execution_count": 1,
   "id": "ad03ba0b",
   "metadata": {},
   "outputs": [
    {
     "name": "stdout",
     "output_type": "stream",
     "text": [
      "/home/judmartz/MASTER_BIGDATA/TFM/TFM-Sentidata/.venv/bin/python\n",
      "Note: you may need to restart the kernel to use updated packages.\n",
      "Note: you may need to restart the kernel to use updated packages.\n"
     ]
    }
   ],
   "source": [
    "import sys\n",
    "print(sys.executable)  # debe apuntar a .../TFM-Sentidata/.venv/bin/python\n",
    "\n",
    "# instala en el propio kernel (magia de Jupyter)\n",
    "%pip install -q --upgrade pip\n",
    "%pip install -q scikit-learn joblib\n"
   ]
  },
  {
   "cell_type": "code",
   "execution_count": 1,
   "id": "796dfe85",
   "metadata": {},
   "outputs": [
    {
     "name": "stdout",
     "output_type": "stream",
     "text": [
      "/home/judmartz/MASTER_BIGDATA/TFM/TFM-Sentidata/.venv/bin/python\n",
      "joblib: 1.5.2 | sklearn: 1.7.1\n"
     ]
    }
   ],
   "source": [
    "import sys, joblib, sklearn\n",
    "print(sys.executable)\n",
    "print(\"joblib:\", joblib.__version__, \"| sklearn:\", sklearn.__version__)"
   ]
  },
  {
   "cell_type": "code",
   "execution_count": 2,
   "id": "a80126a2",
   "metadata": {},
   "outputs": [
    {
     "name": "stdout",
     "output_type": "stream",
     "text": [
      "Distribución de clases (neg,neu,pos): [114061  81752 899057]\n"
     ]
    }
   ],
   "source": [
    "# %% [markdown]\n",
    "# # 02 · Sentiment mejorado (TF-IDF + LR / Char-ngrams + SVM)\n",
    "# - Split por producto (si hay `product_id`) o estratificado por clase\n",
    "# - Muestreo opcional para RAM\n",
    "# - Modelos: TF-IDF+LogReg y Char-ngrams+LinearSVM\n",
    "# - Métricas (F1 macro), matriz de confusión, términos top\n",
    "# - Guardado como Pipeline para servir\n",
    "\n",
    "# %% Imports y config\n",
    "import os, re, glob, json, joblib\n",
    "import numpy as np\n",
    "import pandas as pd\n",
    "import matplotlib.pyplot as plt\n",
    "\n",
    "from sklearn.model_selection import train_test_split, GroupShuffleSplit\n",
    "from sklearn.metrics import classification_report, f1_score, confusion_matrix, ConfusionMatrixDisplay\n",
    "from sklearn.pipeline import Pipeline\n",
    "from sklearn.feature_extraction.text import TfidfVectorizer\n",
    "\n",
    "from sklearn.linear_model import LogisticRegression\n",
    "from sklearn.svm import LinearSVC\n",
    "\n",
    "RANDOM_STATE = 42\n",
    "CSV_PATTERN = \"../data/exploitation/modelos_input/reviews_base_csv/part-*.csv\"\n",
    "MAX_TRAIN = 300_000   # 0 = sin muestreo\n",
    "\n",
    "# %% Carga\n",
    "paths = glob.glob(CSV_PATTERN)\n",
    "assert paths, f\"No se encontró CSV con patrón: {CSV_PATTERN}\"\n",
    "csv_path = paths[0]\n",
    "df = pd.read_csv(csv_path)\n",
    "df.columns = [c.lower() for c in df.columns]\n",
    "df = df.dropna(subset=[\"review_text\",\"rating\"]).copy()\n",
    "df[\"rating\"] = pd.to_numeric(df[\"rating\"], errors=\"coerce\").clip(1,5)\n",
    "\n",
    "# Limpieza ligera de texto (conserva negaciones)\n",
    "df[\"review_text\"] = (df[\"review_text\"].astype(str)\n",
    "                     .str.replace(r\"[\\u2028\\u2029]\", \"\\n\", regex=True)\n",
    "                     .str.replace(\"\\r\",\"\", regex=False)\n",
    "                     .str.strip()\n",
    "                     .str.lower())\n",
    "\n",
    "def rating_to_label(r):\n",
    "    if r <= 2: return 0\n",
    "    if r == 3: return 1\n",
    "    return 2\n",
    "\n",
    "y = df[\"rating\"].apply(rating_to_label).astype(int).values\n",
    "X_text = df[\"review_text\"].values\n",
    "\n",
    "print(\"Distribución de clases (neg,neu,pos):\", np.bincount(y))"
   ]
  },
  {
   "cell_type": "code",
   "execution_count": 3,
   "id": "1df38b4f",
   "metadata": {},
   "outputs": [
    {
     "name": "stdout",
     "output_type": "stream",
     "text": [
      "Tamaño balanceado: 240000 | dist: [80000 80000 80000]\n"
     ]
    }
   ],
   "source": [
    "# === Balancear y reducir tamaño ===\n",
    "import numpy as np\n",
    "\n",
    "# usa la columna ya limpiada\n",
    "text_col = \"review_text\"\n",
    "\n",
    "# cuántas por clase (ajusta según tu RAM)\n",
    "PER_CLASS = 80_000   # p.ej. 50_000 si vas justa\n",
    "\n",
    "rng = np.random.default_rng(42)\n",
    "idx_sel = []\n",
    "for c in (0, 1, 2):  # neg, neu, pos\n",
    "    idx_c = np.flatnonzero(y == c)\n",
    "    take = min(PER_CLASS, len(idx_c))\n",
    "    sel = rng.choice(idx_c, size=take, replace=False)\n",
    "    idx_sel.append(sel)\n",
    "idx_sel = np.concatenate(idx_sel)\n",
    "\n",
    "df_bal = df.iloc[idx_sel].reset_index(drop=True)\n",
    "y_bal  = y[idx_sel]\n",
    "X_text_bal = df_bal[text_col].astype(str).values\n",
    "\n",
    "print(\"Tamaño balanceado:\", len(X_text_bal), \"| dist:\", np.bincount(y_bal))\n"
   ]
  },
  {
   "cell_type": "markdown",
   "id": "aa6076b3",
   "metadata": {},
   "source": [
    "Split (estratificado) sobre el conjunto balanceado"
   ]
  },
  {
   "cell_type": "code",
   "execution_count": 4,
   "id": "1e40350b",
   "metadata": {},
   "outputs": [
    {
     "data": {
      "text/plain": [
       "(192000, 48000)"
      ]
     },
     "execution_count": 4,
     "metadata": {},
     "output_type": "execute_result"
    }
   ],
   "source": [
    "from sklearn.model_selection import train_test_split\n",
    "\n",
    "# si mantienes product_id y quieres evitar fuga por producto, comenta esto y usa GroupShuffleSplit\n",
    "X_train_txt, X_test_txt, y_train, y_test = train_test_split(\n",
    "    X_text_bal, y_bal, test_size=0.2, random_state=42, stratify=y_bal\n",
    ")\n",
    "\n",
    "len(X_train_txt), len(X_test_txt)\n"
   ]
  },
  {
   "cell_type": "markdown",
   "id": "bc1627f0",
   "metadata": {},
   "source": [
    "# Modelo 1 (TF-IDF “ligero” + Logistic Regression estable)\n",
    "Esa celda es el entrenamiento y evaluación de un primer modelo de sentiment analysis."
   ]
  },
  {
   "cell_type": "code",
   "execution_count": 5,
   "id": "b06f7ed0",
   "metadata": {},
   "outputs": [
    {
     "name": "stderr",
     "output_type": "stream",
     "text": [
      "/home/judmartz/MASTER_BIGDATA/TFM/TFM-Sentidata/.venv/lib/python3.10/site-packages/sklearn/linear_model/_logistic.py:1281: FutureWarning: 'multi_class' was deprecated in version 1.5 and will be removed in 1.7. Use OneVsRestClassifier(LogisticRegression(..)) instead. Leave it to its default value to avoid this warning.\n",
      "  warnings.warn(\n"
     ]
    },
    {
     "name": "stdout",
     "output_type": "stream",
     "text": [
      "=== TFIDF + LR ===\n",
      "              precision    recall  f1-score   support\n",
      "\n",
      "         neg      0.787     0.792     0.789     16000\n",
      "         neu      0.716     0.703     0.710     16000\n",
      "         pos      0.881     0.891     0.886     16000\n",
      "\n",
      "    accuracy                          0.795     48000\n",
      "   macro avg      0.794     0.795     0.795     48000\n",
      "weighted avg      0.794     0.795     0.795     48000\n",
      "\n",
      "F1 macro: 0.7948479869977255\n"
     ]
    },
    {
     "data": {
      "image/png": "[encoded data removed]",
      "text/plain": [
       "<Figure size 640x480 with 2 Axes>"
      ]
     },
     "metadata": {},
     "output_type": "display_data"
    }
   ],
   "source": [
    "from sklearn.pipeline import Pipeline\n",
    "from sklearn.feature_extraction.text import TfidfVectorizer\n",
    "from sklearn.linear_model import LogisticRegression\n",
    "from sklearn.metrics import classification_report, f1_score, confusion_matrix, ConfusionMatrixDisplay\n",
    "import matplotlib.pyplot as plt\n",
    "import numpy as np\n",
    "\n",
    "pipe_lr = Pipeline([\n",
    "    (\"tfidf\", TfidfVectorizer(\n",
    "        ngram_range=(1,2),\n",
    "        min_df=5,                # sube umbral -> menos vocabulario\n",
    "        max_features=300_000,    # limita dimensión (baja si te falta RAM)\n",
    "        sublinear_tf=True,\n",
    "        dtype=np.float32\n",
    "    )),\n",
    "    (\"clf\", LogisticRegression(\n",
    "        solver=\"saga\",           # más robusto en alta dimensión\n",
    "        multi_class=\"ovr\",       # reduce memoria frente a multinomial\n",
    "        class_weight=\"balanced\",\n",
    "        max_iter=400,\n",
    "        random_state=42\n",
    "    ))\n",
    "])\n",
    "\n",
    "pipe_lr.fit(X_train_txt, y_train)\n",
    "pred_lr = pipe_lr.predict(X_test_txt)\n",
    "\n",
    "print(\"=== TFIDF + LR ===\")\n",
    "print(classification_report(y_test, pred_lr, target_names=[\"neg\",\"neu\",\"pos\"], digits=3))\n",
    "print(\"F1 macro:\", f1_score(y_test, pred_lr, average=\"macro\"))\n",
    "\n",
    "cm = confusion_matrix(y_test, pred_lr, labels=[0,1,2])\n",
    "ConfusionMatrixDisplay(cm, display_labels=[\"neg\",\"neu\",\"pos\"]).plot(cmap=\"Blues\")\n",
    "plt.title(\"Confusion Matrix · TFIDF + LR\")\n",
    "plt.show()\n"
   ]
  },
  {
   "cell_type": "markdown",
   "id": "df55f364",
   "metadata": {},
   "source": []
  },
  {
   "cell_type": "code",
   "execution_count": 2,
   "id": "8d1b33c3",
   "metadata": {},
   "outputs": [
    {
     "name": "stdout",
     "output_type": "stream",
     "text": [
      "Listo: 192000 48000 [64000 64000 64000]\n"
     ]
    }
   ],
   "source": [
    "# -- Bootstrap rápido para tener X_train_txt, X_test_txt, y_train, y_test --\n",
    "import glob, re, numpy as np, pandas as pd\n",
    "from sklearn.model_selection import train_test_split\n",
    "\n",
    "CSV_PATTERN = \"../data/exploitation/modelos_input/reviews_base_csv/part-*.csv\"\n",
    "csv_path = sorted(glob.glob(CSV_PATTERN))[0]\n",
    "\n",
    "df = pd.read_csv(csv_path)\n",
    "df.columns = [c.lower() for c in df.columns]\n",
    "df = df.dropna(subset=[\"review_text\",\"rating\"]).copy()\n",
    "df[\"rating\"] = pd.to_numeric(df[\"rating\"], errors=\"coerce\").clip(1,5)\n",
    "df[\"review_text\"] = (df[\"review_text\"].astype(str)\n",
    "                     .str.replace(r\"[\\u2028\\u2029]\", \"\\n\", regex=True)\n",
    "                     .str.replace(\"\\r\", \"\", regex=False)\n",
    "                     .str.strip().str.lower())\n",
    "\n",
    "def rating_to_label(r): r=float(r); return 0 if r<=2 else (1 if r==3 else 2)\n",
    "y = df[\"rating\"].apply(rating_to_label).astype(int).values\n",
    "\n",
    "# Balanceo (ajusta PER_CLASS si te falta RAM)\n",
    "PER_CLASS = 80_000\n",
    "rng = np.random.default_rng(42)\n",
    "idx_sel = np.concatenate([\n",
    "    rng.choice(np.flatnonzero(y==c), size=min(PER_CLASS, (y==c).sum()), replace=False)\n",
    "    for c in (0,1,2)\n",
    "])\n",
    "df_bal = df.iloc[idx_sel].reset_index(drop=True)\n",
    "y_bal  = y[idx_sel]\n",
    "\n",
    "X_train_txt, X_test_txt, y_train, y_test = train_test_split(\n",
    "    df_bal[\"review_text\"].values, y_bal, test_size=0.2, random_state=42, stratify=y_bal\n",
    ")\n",
    "\n",
    "print(\"Listo:\", len(X_train_txt), len(X_test_txt), np.bincount(y_train))\n"
   ]
  },
  {
   "cell_type": "code",
   "execution_count": 3,
   "id": "7d80dc35",
   "metadata": {},
   "outputs": [
    {
     "name": "stdout",
     "output_type": "stream",
     "text": [
      "=== Char n-grams + LinearSVC (ajustado a 4GB RAM) ===\n",
      "              precision    recall  f1-score   support\n",
      "\n",
      "         neg      0.737     0.748     0.743     16000\n",
      "         neu      0.672     0.646     0.659     16000\n",
      "         pos      0.832     0.852     0.842     16000\n",
      "\n",
      "    accuracy                          0.749     48000\n",
      "   macro avg      0.747     0.749     0.748     48000\n",
      "weighted avg      0.747     0.749     0.748     48000\n",
      "\n",
      "F1 macro: 0.7476661710337978\n"
     ]
    }
   ],
   "source": [
    "from sklearn.pipeline import Pipeline\n",
    "from sklearn.feature_extraction.text import TfidfVectorizer\n",
    "from sklearn.svm import LinearSVC\n",
    "from sklearn.metrics import classification_report, f1_score, confusion_matrix, ConfusionMatrixDisplay\n",
    "import matplotlib.pyplot as plt\n",
    "import numpy as np\n",
    "\n",
    "# Configuración segura para 4 GB RAM\n",
    "pipe_svm_char = Pipeline([\n",
    "    (\"tfidf\", TfidfVectorizer(\n",
    "        analyzer=\"char_wb\",\n",
    "        ngram_range=(3,3),      # solo trigramas (reduce memoria)\n",
    "        min_df=30,              # descarta términos poco frecuentes\n",
    "        max_features=50_000,    # límite bajo de vocabulario\n",
    "        dtype=np.float32\n",
    "    )),\n",
    "    (\"clf\", LinearSVC(\n",
    "        C=1.0,\n",
    "        class_weight=\"balanced\",\n",
    "        random_state=42\n",
    "    ))\n",
    "])\n",
    "\n",
    "# Entrenamiento\n",
    "pipe_svm_char.fit(X_train_txt, y_train)\n",
    "\n",
    "# Predicción\n",
    "pred_svm = pipe_svm_char.predict(X_test_txt)\n",
    "\n",
    "# Reporte de métricas\n",
    "print(\"=== Char n-grams + LinearSVC (ajustado a 4GB RAM) ===\")\n",
    "print(classification_report(y_test, pred_svm, target_names=[\"neg\",\"neu\",\"pos\"], digits=3))\n",
    "print(\"F1 macro:\", f1_score(y_test, pred_svm, average=\"macro\"))\n",
    "\n",
    "# Matriz de confusión\n",
    "cm2 = confusion_matrix(y_test, pred_svm, labels=[0,1,2])\n",
    "\n",
    "\n"
   ]
  },
  {
   "cell_type": "code",
   "execution_count": 4,
   "id": "21af7938",
   "metadata": {},
   "outputs": [
    {
     "ename": "NameError",
     "evalue": "name 'os' is not defined",
     "output_type": "error",
     "traceback": [
      "\u001b[0;31m---------------------------------------------------------------------------\u001b[0m",
      "\u001b[0;31mNameError\u001b[0m                                 Traceback (most recent call last)",
      "Cell \u001b[0;32mIn[4], line 2\u001b[0m\n\u001b[1;32m      1\u001b[0m \u001b[38;5;66;03m# %% Guardar el mejor como Pipeline\u001b[39;00m\n\u001b[0;32m----> 2\u001b[0m \u001b[43mos\u001b[49m\u001b[38;5;241m.\u001b[39mmakedirs(\u001b[38;5;124m\"\u001b[39m\u001b[38;5;124m../models/sentiment_v1\u001b[39m\u001b[38;5;124m\"\u001b[39m, exist_ok\u001b[38;5;241m=\u001b[39m\u001b[38;5;28;01mTrue\u001b[39;00m)\n\u001b[1;32m      4\u001b[0m \u001b[38;5;66;03m# elige el mejor por F1 macro\u001b[39;00m\n\u001b[1;32m      5\u001b[0m f1_lr  \u001b[38;5;241m=\u001b[39m f1_score(y_test, pred_lr,  average\u001b[38;5;241m=\u001b[39m\u001b[38;5;124m\"\u001b[39m\u001b[38;5;124mmacro\u001b[39m\u001b[38;5;124m\"\u001b[39m)\n",
      "\u001b[0;31mNameError\u001b[0m: name 'os' is not defined"
     ]
    }
   ],
   "source": [
    "# %% Guardar el mejor como Pipeline\n",
    "os.makedirs(\"../models/sentiment_v1\", exist_ok=True)\n",
    "\n",
    "# elige el mejor por F1 macro\n",
    "f1_lr  = f1_score(y_test, pred_lr,  average=\"macro\")\n",
    "f1_svm = f1_score(y_test, pred_svm, average=\"macro\")\n",
    "best_name, best_pipe, best_f1 = (\"tfidf_lr\", pipe_lr, f1_lr) if f1_lr >= f1_svm else (\"char_svm\", pipe_svm_char, f1_svm)\n",
    "\n",
    "joblib.dump(best_pipe, f\"../models/sentiment_v1/{best_name}.joblib\")\n",
    "with open(\"../models/sentiment_v1/metrics.json\",\"w\") as f:\n",
    "    json.dump({\"f1_macro\": float(best_f1), \"model\": best_name}, f, indent=2)\n",
    "print(f\"Guardado ../models/sentiment_v1/{best_name}.joblib | F1 macro={best_f1:.3f}\")\n",
    "\n",
    "# %% Interpretabilidad rápida (solo si el mejor es TF-IDF+LR)\n",
    "if best_name == \"tfidf_lr\":\n",
    "    vec: TfidfVectorizer = best_pipe.named_steps[\"tfidf\"]\n",
    "    clf: LogisticRegression = best_pipe.named_steps[\"clf\"]\n",
    "    feature_names = np.array(vec.get_feature_names_out())\n",
    "    coef = clf.coef_\n",
    "    for label, name in zip([0,1,2], [\"negativo\",\"neutro\",\"positivo\"]):\n",
    "        top = np.argsort(coef[label])[-20:][::-1]\n",
    "        print(f\"\\nTop n-gramas → {name}:\")\n",
    "        print(\", \".join(feature_names[top]))\n",
    "else:\n",
    "    print(\"Interpretabilidad por coeficientes no disponible para SVM char (usa LIME/SHAP si quieres).\")"
   ]
  }
 ],
 "metadata": {
  "kernelspec": {
   "display_name": ".venv",
   "language": "python",
   "name": "python3"
  },
  "language_info": {
   "codemirror_mode": {
    "name": "ipython",
    "version": 3
   },
   "file_extension": ".py",
   "mimetype": "text/x-python",
   "name": "python",
   "nbconvert_exporter": "python",
   "pygments_lexer": "ipython3",
   "version": "3.10.12"
  }
 },
 "nbformat": 4,
 "nbformat_minor": 5
}
